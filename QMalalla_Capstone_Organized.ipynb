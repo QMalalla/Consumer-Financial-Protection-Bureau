{
 "cells": [
  {
   "cell_type": "markdown",
   "id": "cd4636ff",
   "metadata": {},
   "source": [
    "# 1. Setup"
   ]
  },
  {
   "cell_type": "markdown",
   "id": "9c2acb05",
   "metadata": {},
   "source": [
    "## 📦 Importing Libraries"
   ]
  },
  {
   "cell_type": "code",
   "execution_count": 2,
   "id": "f9a08c6f-8d87-42e7-a2eb-bdc128a16278",
   "metadata": {},
   "outputs": [],
   "source": [
    "import pandas as pd\n",
    "import numpy as np\n",
    "import matplotlib.pyplot as plt\n",
    "import seaborn as sns"
   ]
  },
  {
   "cell_type": "code",
   "execution_count": 104,
   "id": "3da1027f-37db-4d27-a931-257ded4e75f7",
   "metadata": {},
   "outputs": [],
   "source": [
    "import re\n",
    "import string\n",
    "from nltk.corpus import stopwords\n",
    "import nltk"
   ]
  },
  {
   "cell_type": "code",
   "execution_count": 135,
   "id": "d6db80a5-8b3c-4a6e-b7a3-25d5f34887f5",
   "metadata": {},
   "outputs": [],
   "source": [
    "from textblob import TextBlob\n"
   ]
  },
  {
   "cell_type": "code",
   "execution_count": 183,
   "id": "8088caf2-7645-4b46-a4bc-ef84070b624e",
   "metadata": {},
   "outputs": [],
   "source": [
    "from sklearn.feature_extraction.text import CountVectorizer"
   ]
  },
  {
   "cell_type": "code",
   "execution_count": 190,
   "id": "7eb153ee-d4b6-4da8-aa26-7425ab42be42",
   "metadata": {},
   "outputs": [],
   "source": [
    "from sentence_transformers import SentenceTransformer\n",
    "\n",
    "model = SentenceTransformer('all-MiniLM-L6-v2')\n"
   ]
  },
  {
   "cell_type": "markdown",
   "id": "3a638ba3",
   "metadata": {},
   "source": [
    "# 2. Load & Inspect Data"
   ]
  },
  {
   "cell_type": "markdown",
   "id": "af30b8db",
   "metadata": {},
   "source": [
    "## 📂 Loading the Dataset"
   ]
  },
  {
   "cell_type": "code",
   "execution_count": 5,
   "id": "c8d9508a-e09f-41bf-aa1a-8330d3d48a0b",
   "metadata": {},
   "outputs": [
    {
     "name": "stderr",
     "output_type": "stream",
     "text": [
      "C:\\Users\\admin\\AppData\\Local\\Temp\\ipykernel_22688\\1213973272.py:1: DtypeWarning: Columns (16) have mixed types. Specify dtype option on import or set low_memory=False.\n",
      "  fullc_df = pd.read_csv(\"complaints.csv.zip\")\n"
     ]
    }
   ],
   "source": [
    "fullc_df = pd.read_csv(\"complaints.csv.zip\")"
   ]
  },
  {
   "cell_type": "markdown",
   "id": "1a751d6e",
   "metadata": {},
   "source": [
    "## 🧾 Initial Data Exploration"
   ]
  },
  {
   "cell_type": "code",
   "execution_count": 15,
   "id": "5a2ed859-74b0-4330-a07a-d0d3aadf3bd9",
   "metadata": {},
   "outputs": [
    {
     "name": "stdout",
     "output_type": "stream",
     "text": [
      "<class 'pandas.core.frame.DataFrame'>\n",
      "RangeIndex: 9589250 entries, 0 to 9589249\n",
      "Data columns (total 18 columns):\n",
      " #   Column                        Dtype         \n",
      "---  ------                        -----         \n",
      " 0   Date received                 datetime64[ns]\n",
      " 1   Product                       object        \n",
      " 2   Sub-product                   object        \n",
      " 3   Issue                         object        \n",
      " 4   Sub-issue                     object        \n",
      " 5   Consumer complaint narrative  object        \n",
      " 6   Company public response       object        \n",
      " 7   Company                       object        \n",
      " 8   State                         object        \n",
      " 9   ZIP code                      object        \n",
      " 10  Tags                          object        \n",
      " 11  Consumer consent provided?    object        \n",
      " 12  Submitted via                 object        \n",
      " 13  Date sent to company          datetime64[ns]\n",
      " 14  Company response to consumer  object        \n",
      " 15  Timely response?              object        \n",
      " 16  Consumer disputed?            object        \n",
      " 17  Complaint ID                  int64         \n",
      "dtypes: datetime64[ns](2), int64(1), object(15)\n",
      "memory usage: 1.3+ GB\n"
     ]
    }
   ],
   "source": [
    "fullc_df.info()"
   ]
  },
  {
   "cell_type": "code",
   "execution_count": 11,
   "id": "97412610-053f-4caf-ac29-3d7ca46ae4cb",
   "metadata": {},
   "outputs": [
    {
     "data": {
      "text/html": [
       "<div>\n",
       "<style scoped>\n",
       "    .dataframe tbody tr th:only-of-type {\n",
       "        vertical-align: middle;\n",
       "    }\n",
       "\n",
       "    .dataframe tbody tr th {\n",
       "        vertical-align: top;\n",
       "    }\n",
       "\n",
       "    .dataframe thead th {\n",
       "        text-align: right;\n",
       "    }\n",
       "</style>\n",
       "<table border=\"1\" class=\"dataframe\">\n",
       "  <thead>\n",
       "    <tr style=\"text-align: right;\">\n",
       "      <th></th>\n",
       "      <th>Date received</th>\n",
       "      <th>Product</th>\n",
       "      <th>Sub-product</th>\n",
       "      <th>Issue</th>\n",
       "      <th>Sub-issue</th>\n",
       "      <th>Consumer complaint narrative</th>\n",
       "      <th>Company public response</th>\n",
       "      <th>Company</th>\n",
       "      <th>State</th>\n",
       "      <th>ZIP code</th>\n",
       "      <th>Tags</th>\n",
       "      <th>Consumer consent provided?</th>\n",
       "      <th>Submitted via</th>\n",
       "      <th>Date sent to company</th>\n",
       "      <th>Company response to consumer</th>\n",
       "      <th>Timely response?</th>\n",
       "      <th>Consumer disputed?</th>\n",
       "      <th>Complaint ID</th>\n",
       "    </tr>\n",
       "  </thead>\n",
       "  <tbody>\n",
       "    <tr>\n",
       "      <th>0</th>\n",
       "      <td>2025-06-13</td>\n",
       "      <td>Credit reporting or other personal consumer re...</td>\n",
       "      <td>Credit reporting</td>\n",
       "      <td>Incorrect information on your report</td>\n",
       "      <td>Account status incorrect</td>\n",
       "      <td>NaN</td>\n",
       "      <td>NaN</td>\n",
       "      <td>EQUIFAX, INC.</td>\n",
       "      <td>NY</td>\n",
       "      <td>11433</td>\n",
       "      <td>NaN</td>\n",
       "      <td>NaN</td>\n",
       "      <td>Web</td>\n",
       "      <td>2025-06-13</td>\n",
       "      <td>In progress</td>\n",
       "      <td>Yes</td>\n",
       "      <td>NaN</td>\n",
       "      <td>14072365</td>\n",
       "    </tr>\n",
       "    <tr>\n",
       "      <th>1</th>\n",
       "      <td>2025-06-13</td>\n",
       "      <td>Credit reporting or other personal consumer re...</td>\n",
       "      <td>Credit reporting</td>\n",
       "      <td>Incorrect information on your report</td>\n",
       "      <td>Information belongs to someone else</td>\n",
       "      <td>NaN</td>\n",
       "      <td>NaN</td>\n",
       "      <td>EQUIFAX, INC.</td>\n",
       "      <td>NJ</td>\n",
       "      <td>07047</td>\n",
       "      <td>NaN</td>\n",
       "      <td>NaN</td>\n",
       "      <td>Web</td>\n",
       "      <td>2025-06-13</td>\n",
       "      <td>In progress</td>\n",
       "      <td>Yes</td>\n",
       "      <td>NaN</td>\n",
       "      <td>14072555</td>\n",
       "    </tr>\n",
       "    <tr>\n",
       "      <th>2</th>\n",
       "      <td>2025-06-13</td>\n",
       "      <td>Credit reporting or other personal consumer re...</td>\n",
       "      <td>Credit reporting</td>\n",
       "      <td>Incorrect information on your report</td>\n",
       "      <td>Information belongs to someone else</td>\n",
       "      <td>NaN</td>\n",
       "      <td>NaN</td>\n",
       "      <td>EQUIFAX, INC.</td>\n",
       "      <td>NH</td>\n",
       "      <td>03051</td>\n",
       "      <td>NaN</td>\n",
       "      <td>NaN</td>\n",
       "      <td>Web</td>\n",
       "      <td>2025-06-13</td>\n",
       "      <td>In progress</td>\n",
       "      <td>Yes</td>\n",
       "      <td>NaN</td>\n",
       "      <td>14072377</td>\n",
       "    </tr>\n",
       "    <tr>\n",
       "      <th>3</th>\n",
       "      <td>2025-06-13</td>\n",
       "      <td>Credit reporting or other personal consumer re...</td>\n",
       "      <td>Credit reporting</td>\n",
       "      <td>Problem with a company's investigation into an...</td>\n",
       "      <td>Investigation took more than 30 days</td>\n",
       "      <td>NaN</td>\n",
       "      <td>NaN</td>\n",
       "      <td>EQUIFAX, INC.</td>\n",
       "      <td>CA</td>\n",
       "      <td>94080</td>\n",
       "      <td>NaN</td>\n",
       "      <td>NaN</td>\n",
       "      <td>Web</td>\n",
       "      <td>2025-06-13</td>\n",
       "      <td>In progress</td>\n",
       "      <td>Yes</td>\n",
       "      <td>NaN</td>\n",
       "      <td>14072294</td>\n",
       "    </tr>\n",
       "    <tr>\n",
       "      <th>4</th>\n",
       "      <td>2025-06-13</td>\n",
       "      <td>Credit reporting or other personal consumer re...</td>\n",
       "      <td>Credit reporting</td>\n",
       "      <td>Incorrect information on your report</td>\n",
       "      <td>Information belongs to someone else</td>\n",
       "      <td>NaN</td>\n",
       "      <td>NaN</td>\n",
       "      <td>EQUIFAX, INC.</td>\n",
       "      <td>CA</td>\n",
       "      <td>92583</td>\n",
       "      <td>NaN</td>\n",
       "      <td>NaN</td>\n",
       "      <td>Web</td>\n",
       "      <td>2025-06-13</td>\n",
       "      <td>In progress</td>\n",
       "      <td>Yes</td>\n",
       "      <td>NaN</td>\n",
       "      <td>14072340</td>\n",
       "    </tr>\n",
       "  </tbody>\n",
       "</table>\n",
       "</div>"
      ],
      "text/plain": [
       "  Date received                                            Product  \\\n",
       "0    2025-06-13  Credit reporting or other personal consumer re...   \n",
       "1    2025-06-13  Credit reporting or other personal consumer re...   \n",
       "2    2025-06-13  Credit reporting or other personal consumer re...   \n",
       "3    2025-06-13  Credit reporting or other personal consumer re...   \n",
       "4    2025-06-13  Credit reporting or other personal consumer re...   \n",
       "\n",
       "        Sub-product                                              Issue  \\\n",
       "0  Credit reporting               Incorrect information on your report   \n",
       "1  Credit reporting               Incorrect information on your report   \n",
       "2  Credit reporting               Incorrect information on your report   \n",
       "3  Credit reporting  Problem with a company's investigation into an...   \n",
       "4  Credit reporting               Incorrect information on your report   \n",
       "\n",
       "                              Sub-issue Consumer complaint narrative  \\\n",
       "0              Account status incorrect                          NaN   \n",
       "1   Information belongs to someone else                          NaN   \n",
       "2   Information belongs to someone else                          NaN   \n",
       "3  Investigation took more than 30 days                          NaN   \n",
       "4   Information belongs to someone else                          NaN   \n",
       "\n",
       "  Company public response        Company State ZIP code Tags  \\\n",
       "0                     NaN  EQUIFAX, INC.    NY    11433  NaN   \n",
       "1                     NaN  EQUIFAX, INC.    NJ    07047  NaN   \n",
       "2                     NaN  EQUIFAX, INC.    NH    03051  NaN   \n",
       "3                     NaN  EQUIFAX, INC.    CA    94080  NaN   \n",
       "4                     NaN  EQUIFAX, INC.    CA    92583  NaN   \n",
       "\n",
       "  Consumer consent provided? Submitted via Date sent to company  \\\n",
       "0                        NaN           Web           2025-06-13   \n",
       "1                        NaN           Web           2025-06-13   \n",
       "2                        NaN           Web           2025-06-13   \n",
       "3                        NaN           Web           2025-06-13   \n",
       "4                        NaN           Web           2025-06-13   \n",
       "\n",
       "  Company response to consumer Timely response? Consumer disputed?  \\\n",
       "0                  In progress              Yes                NaN   \n",
       "1                  In progress              Yes                NaN   \n",
       "2                  In progress              Yes                NaN   \n",
       "3                  In progress              Yes                NaN   \n",
       "4                  In progress              Yes                NaN   \n",
       "\n",
       "   Complaint ID  \n",
       "0      14072365  \n",
       "1      14072555  \n",
       "2      14072377  \n",
       "3      14072294  \n",
       "4      14072340  "
      ]
     },
     "execution_count": 11,
     "metadata": {},
     "output_type": "execute_result"
    }
   ],
   "source": [
    "fullc_df.head()"
   ]
  },
  {
   "cell_type": "code",
   "execution_count": 53,
   "id": "0d802721-e799-42ff-85a2-ce52a17afd6b",
   "metadata": {},
   "outputs": [
    {
     "data": {
      "text/html": [
       "<div>\n",
       "<style scoped>\n",
       "    .dataframe tbody tr th:only-of-type {\n",
       "        vertical-align: middle;\n",
       "    }\n",
       "\n",
       "    .dataframe tbody tr th {\n",
       "        vertical-align: top;\n",
       "    }\n",
       "\n",
       "    .dataframe thead th {\n",
       "        text-align: right;\n",
       "    }\n",
       "</style>\n",
       "<table border=\"1\" class=\"dataframe\">\n",
       "  <thead>\n",
       "    <tr style=\"text-align: right;\">\n",
       "      <th></th>\n",
       "      <th>Date received</th>\n",
       "      <th>Product</th>\n",
       "      <th>Sub-product</th>\n",
       "      <th>Issue</th>\n",
       "      <th>Sub-issue</th>\n",
       "      <th>Consumer complaint narrative</th>\n",
       "      <th>Company public response</th>\n",
       "      <th>Company</th>\n",
       "      <th>State</th>\n",
       "      <th>ZIP code</th>\n",
       "      <th>...</th>\n",
       "      <th>Consumer consent provided?</th>\n",
       "      <th>Submitted via</th>\n",
       "      <th>Date sent to company</th>\n",
       "      <th>Company response to consumer</th>\n",
       "      <th>Timely response?</th>\n",
       "      <th>Consumer disputed?</th>\n",
       "      <th>Complaint ID</th>\n",
       "      <th>Year</th>\n",
       "      <th>Month</th>\n",
       "      <th>Weekday</th>\n",
       "    </tr>\n",
       "  </thead>\n",
       "  <tbody>\n",
       "    <tr>\n",
       "      <th>0</th>\n",
       "      <td>2025-06-13</td>\n",
       "      <td>Credit reporting or other personal consumer re...</td>\n",
       "      <td>Credit reporting</td>\n",
       "      <td>Incorrect information on your report</td>\n",
       "      <td>Account status incorrect</td>\n",
       "      <td>NaN</td>\n",
       "      <td>NaN</td>\n",
       "      <td>EQUIFAX, INC.</td>\n",
       "      <td>NY</td>\n",
       "      <td>11433</td>\n",
       "      <td>...</td>\n",
       "      <td>NaN</td>\n",
       "      <td>Web</td>\n",
       "      <td>2025-06-13</td>\n",
       "      <td>In progress</td>\n",
       "      <td>Yes</td>\n",
       "      <td>NaN</td>\n",
       "      <td>14072365</td>\n",
       "      <td>2025</td>\n",
       "      <td>6</td>\n",
       "      <td>Friday</td>\n",
       "    </tr>\n",
       "    <tr>\n",
       "      <th>1</th>\n",
       "      <td>2025-06-13</td>\n",
       "      <td>Credit reporting or other personal consumer re...</td>\n",
       "      <td>Credit reporting</td>\n",
       "      <td>Incorrect information on your report</td>\n",
       "      <td>Information belongs to someone else</td>\n",
       "      <td>NaN</td>\n",
       "      <td>NaN</td>\n",
       "      <td>EQUIFAX, INC.</td>\n",
       "      <td>NJ</td>\n",
       "      <td>07047</td>\n",
       "      <td>...</td>\n",
       "      <td>NaN</td>\n",
       "      <td>Web</td>\n",
       "      <td>2025-06-13</td>\n",
       "      <td>In progress</td>\n",
       "      <td>Yes</td>\n",
       "      <td>NaN</td>\n",
       "      <td>14072555</td>\n",
       "      <td>2025</td>\n",
       "      <td>6</td>\n",
       "      <td>Friday</td>\n",
       "    </tr>\n",
       "    <tr>\n",
       "      <th>2</th>\n",
       "      <td>2025-06-13</td>\n",
       "      <td>Credit reporting or other personal consumer re...</td>\n",
       "      <td>Credit reporting</td>\n",
       "      <td>Incorrect information on your report</td>\n",
       "      <td>Information belongs to someone else</td>\n",
       "      <td>NaN</td>\n",
       "      <td>NaN</td>\n",
       "      <td>EQUIFAX, INC.</td>\n",
       "      <td>NH</td>\n",
       "      <td>03051</td>\n",
       "      <td>...</td>\n",
       "      <td>NaN</td>\n",
       "      <td>Web</td>\n",
       "      <td>2025-06-13</td>\n",
       "      <td>In progress</td>\n",
       "      <td>Yes</td>\n",
       "      <td>NaN</td>\n",
       "      <td>14072377</td>\n",
       "      <td>2025</td>\n",
       "      <td>6</td>\n",
       "      <td>Friday</td>\n",
       "    </tr>\n",
       "    <tr>\n",
       "      <th>3</th>\n",
       "      <td>2025-06-13</td>\n",
       "      <td>Credit reporting or other personal consumer re...</td>\n",
       "      <td>Credit reporting</td>\n",
       "      <td>Problem with a company's investigation into an...</td>\n",
       "      <td>Investigation took more than 30 days</td>\n",
       "      <td>NaN</td>\n",
       "      <td>NaN</td>\n",
       "      <td>EQUIFAX, INC.</td>\n",
       "      <td>CA</td>\n",
       "      <td>94080</td>\n",
       "      <td>...</td>\n",
       "      <td>NaN</td>\n",
       "      <td>Web</td>\n",
       "      <td>2025-06-13</td>\n",
       "      <td>In progress</td>\n",
       "      <td>Yes</td>\n",
       "      <td>NaN</td>\n",
       "      <td>14072294</td>\n",
       "      <td>2025</td>\n",
       "      <td>6</td>\n",
       "      <td>Friday</td>\n",
       "    </tr>\n",
       "    <tr>\n",
       "      <th>4</th>\n",
       "      <td>2025-06-13</td>\n",
       "      <td>Credit reporting or other personal consumer re...</td>\n",
       "      <td>Credit reporting</td>\n",
       "      <td>Incorrect information on your report</td>\n",
       "      <td>Information belongs to someone else</td>\n",
       "      <td>NaN</td>\n",
       "      <td>NaN</td>\n",
       "      <td>EQUIFAX, INC.</td>\n",
       "      <td>CA</td>\n",
       "      <td>92583</td>\n",
       "      <td>...</td>\n",
       "      <td>NaN</td>\n",
       "      <td>Web</td>\n",
       "      <td>2025-06-13</td>\n",
       "      <td>In progress</td>\n",
       "      <td>Yes</td>\n",
       "      <td>NaN</td>\n",
       "      <td>14072340</td>\n",
       "      <td>2025</td>\n",
       "      <td>6</td>\n",
       "      <td>Friday</td>\n",
       "    </tr>\n",
       "  </tbody>\n",
       "</table>\n",
       "<p>5 rows × 21 columns</p>\n",
       "</div>"
      ],
      "text/plain": [
       "  Date received                                            Product  \\\n",
       "0    2025-06-13  Credit reporting or other personal consumer re...   \n",
       "1    2025-06-13  Credit reporting or other personal consumer re...   \n",
       "2    2025-06-13  Credit reporting or other personal consumer re...   \n",
       "3    2025-06-13  Credit reporting or other personal consumer re...   \n",
       "4    2025-06-13  Credit reporting or other personal consumer re...   \n",
       "\n",
       "        Sub-product                                              Issue  \\\n",
       "0  Credit reporting               Incorrect information on your report   \n",
       "1  Credit reporting               Incorrect information on your report   \n",
       "2  Credit reporting               Incorrect information on your report   \n",
       "3  Credit reporting  Problem with a company's investigation into an...   \n",
       "4  Credit reporting               Incorrect information on your report   \n",
       "\n",
       "                              Sub-issue Consumer complaint narrative  \\\n",
       "0              Account status incorrect                          NaN   \n",
       "1   Information belongs to someone else                          NaN   \n",
       "2   Information belongs to someone else                          NaN   \n",
       "3  Investigation took more than 30 days                          NaN   \n",
       "4   Information belongs to someone else                          NaN   \n",
       "\n",
       "  Company public response        Company State ZIP code  ...  \\\n",
       "0                     NaN  EQUIFAX, INC.    NY    11433  ...   \n",
       "1                     NaN  EQUIFAX, INC.    NJ    07047  ...   \n",
       "2                     NaN  EQUIFAX, INC.    NH    03051  ...   \n",
       "3                     NaN  EQUIFAX, INC.    CA    94080  ...   \n",
       "4                     NaN  EQUIFAX, INC.    CA    92583  ...   \n",
       "\n",
       "  Consumer consent provided? Submitted via Date sent to company  \\\n",
       "0                        NaN           Web           2025-06-13   \n",
       "1                        NaN           Web           2025-06-13   \n",
       "2                        NaN           Web           2025-06-13   \n",
       "3                        NaN           Web           2025-06-13   \n",
       "4                        NaN           Web           2025-06-13   \n",
       "\n",
       "  Company response to consumer Timely response? Consumer disputed?  \\\n",
       "0                  In progress              Yes                NaN   \n",
       "1                  In progress              Yes                NaN   \n",
       "2                  In progress              Yes                NaN   \n",
       "3                  In progress              Yes                NaN   \n",
       "4                  In progress              Yes                NaN   \n",
       "\n",
       "  Complaint ID  Year  Month  Weekday  \n",
       "0     14072365  2025      6   Friday  \n",
       "1     14072555  2025      6   Friday  \n",
       "2     14072377  2025      6   Friday  \n",
       "3     14072294  2025      6   Friday  \n",
       "4     14072340  2025      6   Friday  \n",
       "\n",
       "[5 rows x 21 columns]"
      ]
     },
     "execution_count": 53,
     "metadata": {},
     "output_type": "execute_result"
    }
   ],
   "source": [
    "recent_df.head()"
   ]
  },
  {
   "cell_type": "markdown",
   "id": "215e8982",
   "metadata": {},
   "source": [
    "## 🧾 Initial Data Exploration"
   ]
  },
  {
   "cell_type": "code",
   "execution_count": 95,
   "id": "52db0f73-b4ce-4201-9c30-a80630409161",
   "metadata": {},
   "outputs": [
    {
     "name": "stdout",
     "output_type": "stream",
     "text": [
      "<class 'pandas.core.frame.DataFrame'>\n",
      "Index: 500000 entries, 3482032 to 9057020\n",
      "Data columns (total 24 columns):\n",
      " #   Column                        Non-Null Count   Dtype         \n",
      "---  ------                        --------------   -----         \n",
      " 0   Date received                 500000 non-null  datetime64[ns]\n",
      " 1   Product                       500000 non-null  object        \n",
      " 2   Sub-product                   499993 non-null  object        \n",
      " 3   Issue                         499998 non-null  object        \n",
      " 4   Sub-issue                     482030 non-null  object        \n",
      " 5   Consumer complaint narrative  174283 non-null  object        \n",
      " 6   Company public response       288193 non-null  object        \n",
      " 7   Company                       500000 non-null  object        \n",
      " 8   State                         497801 non-null  object        \n",
      " 9   ZIP code                      499132 non-null  object        \n",
      " 10  Tags                          30663 non-null   object        \n",
      " 11  Consumer consent provided?    478770 non-null  object        \n",
      " 12  Submitted via                 500000 non-null  object        \n",
      " 13  Date sent to company          500000 non-null  datetime64[ns]\n",
      " 14  Company response to consumer  500000 non-null  object        \n",
      " 15  Timely response?              500000 non-null  object        \n",
      " 16  Complaint ID                  500000 non-null  int64         \n",
      " 17  Year_received                 500000 non-null  int32         \n",
      " 18  Month_received                500000 non-null  int32         \n",
      " 19  Weekday_received              500000 non-null  object        \n",
      " 20  Year_sent                     500000 non-null  int32         \n",
      " 21  Month_sent                    500000 non-null  int32         \n",
      " 22  Weekday_sent                  500000 non-null  object        \n",
      " 23  Days_to_respond               500000 non-null  int64         \n",
      "dtypes: datetime64[ns](2), int32(4), int64(2), object(16)\n",
      "memory usage: 87.7+ MB\n"
     ]
    }
   ],
   "source": [
    "sample_df.info()"
   ]
  },
  {
   "cell_type": "markdown",
   "id": "c89a2fb9",
   "metadata": {},
   "source": [
    "## 🧾 Initial Data Exploration"
   ]
  },
  {
   "cell_type": "code",
   "execution_count": 130,
   "id": "62df05e4-0e64-45d8-9003-0dc76d838593",
   "metadata": {},
   "outputs": [
    {
     "name": "stdout",
     "output_type": "stream",
     "text": [
      "<class 'pandas.core.frame.DataFrame'>\n",
      "Index: 500000 entries, 3482032 to 9057020\n",
      "Data columns (total 26 columns):\n",
      " #   Column                        Non-Null Count   Dtype         \n",
      "---  ------                        --------------   -----         \n",
      " 0   Date received                 500000 non-null  datetime64[ns]\n",
      " 1   Product                       500000 non-null  object        \n",
      " 2   Sub-product                   499993 non-null  object        \n",
      " 3   Issue                         499998 non-null  object        \n",
      " 4   Sub-issue                     482030 non-null  object        \n",
      " 5   Consumer complaint narrative  174283 non-null  object        \n",
      " 6   Company public response       288193 non-null  object        \n",
      " 7   Company                       500000 non-null  object        \n",
      " 8   State                         500000 non-null  object        \n",
      " 9   ZIP code                      499132 non-null  object        \n",
      " 10  Tags                          30663 non-null   object        \n",
      " 11  Consumer consent provided?    478770 non-null  object        \n",
      " 12  Submitted via                 500000 non-null  object        \n",
      " 13  Date sent to company          500000 non-null  datetime64[ns]\n",
      " 14  Company response to consumer  500000 non-null  object        \n",
      " 15  Timely response?              500000 non-null  object        \n",
      " 16  Complaint ID                  500000 non-null  int64         \n",
      " 17  Year_received                 500000 non-null  int32         \n",
      " 18  Month_received                500000 non-null  int32         \n",
      " 19  Weekday_received              500000 non-null  object        \n",
      " 20  Year_sent                     500000 non-null  int32         \n",
      " 21  Month_sent                    500000 non-null  int32         \n",
      " 22  Weekday_sent                  500000 non-null  object        \n",
      " 23  CFPB to Company               500000 non-null  int64         \n",
      " 24  has_narrative                 500000 non-null  int32         \n",
      " 25  clean_text                    500000 non-null  object        \n",
      "dtypes: datetime64[ns](2), int32(5), int64(2), object(17)\n",
      "memory usage: 93.5+ MB\n"
     ]
    }
   ],
   "source": [
    "sample_df.info()"
   ]
  },
  {
   "cell_type": "markdown",
   "id": "5edc0b27",
   "metadata": {},
   "source": [
    "## 🧾 Initial Data Exploration"
   ]
  },
  {
   "cell_type": "code",
   "execution_count": 143,
   "id": "e95f4a7f-8031-46c8-ad8b-6ba3f9f571c6",
   "metadata": {},
   "outputs": [
    {
     "name": "stdout",
     "output_type": "stream",
     "text": [
      "<class 'pandas.core.frame.DataFrame'>\n",
      "Index: 500000 entries, 3482032 to 9057020\n",
      "Data columns (total 29 columns):\n",
      " #   Column                        Non-Null Count   Dtype         \n",
      "---  ------                        --------------   -----         \n",
      " 0   Date received                 500000 non-null  datetime64[ns]\n",
      " 1   Product                       500000 non-null  object        \n",
      " 2   Sub-product                   499993 non-null  object        \n",
      " 3   Issue                         499998 non-null  object        \n",
      " 4   Sub-issue                     482030 non-null  object        \n",
      " 5   Consumer complaint narrative  174283 non-null  object        \n",
      " 6   Company public response       288193 non-null  object        \n",
      " 7   Company                       500000 non-null  object        \n",
      " 8   State                         500000 non-null  object        \n",
      " 9   ZIP code                      499132 non-null  object        \n",
      " 10  Tags                          30663 non-null   object        \n",
      " 11  Consumer consent provided?    478770 non-null  object        \n",
      " 12  Submitted via                 500000 non-null  object        \n",
      " 13  Date sent to company          500000 non-null  datetime64[ns]\n",
      " 14  Company response to consumer  500000 non-null  object        \n",
      " 15  Timely response?              500000 non-null  object        \n",
      " 16  Complaint ID                  500000 non-null  int64         \n",
      " 17  Year_received                 500000 non-null  int32         \n",
      " 18  Month_received                500000 non-null  int32         \n",
      " 19  Weekday_received              500000 non-null  object        \n",
      " 20  Year_sent                     500000 non-null  int32         \n",
      " 21  Month_sent                    500000 non-null  int32         \n",
      " 22  Weekday_sent                  500000 non-null  object        \n",
      " 23  CFPB to Company               500000 non-null  int64         \n",
      " 24  has_narrative                 500000 non-null  int32         \n",
      " 25  clean_text                    500000 non-null  object        \n",
      " 26  narrative_length              174283 non-null  float64       \n",
      " 27  sentiment_score               174283 non-null  float64       \n",
      " 28  is_fraud_related              500000 non-null  int64         \n",
      "dtypes: datetime64[ns](2), float64(2), int32(5), int64(3), object(17)\n",
      "memory usage: 104.9+ MB\n"
     ]
    }
   ],
   "source": [
    "sample_df.info()"
   ]
  },
  {
   "cell_type": "markdown",
   "id": "054249b5",
   "metadata": {},
   "source": [
    "## 🧾 Initial Data Exploration"
   ]
  },
  {
   "cell_type": "code",
   "execution_count": 154,
   "id": "d4043f0e-b9b5-4707-8d6d-2a4bb084a221",
   "metadata": {},
   "outputs": [
    {
     "name": "stdout",
     "output_type": "stream",
     "text": [
      "<class 'pandas.core.frame.DataFrame'>\n",
      "Index: 500000 entries, 3482032 to 9057020\n",
      "Data columns (total 29 columns):\n",
      " #   Column                        Non-Null Count   Dtype         \n",
      "---  ------                        --------------   -----         \n",
      " 0   Date received                 500000 non-null  datetime64[ns]\n",
      " 1   Product                       500000 non-null  object        \n",
      " 2   Sub-product                   499993 non-null  object        \n",
      " 3   Issue                         499998 non-null  object        \n",
      " 4   Sub-issue                     482030 non-null  object        \n",
      " 5   Consumer complaint narrative  174283 non-null  object        \n",
      " 6   Company public response       288193 non-null  object        \n",
      " 7   Company                       500000 non-null  object        \n",
      " 8   State                         500000 non-null  object        \n",
      " 9   ZIP code                      499132 non-null  object        \n",
      " 10  Tags                          30663 non-null   object        \n",
      " 11  Consumer consent provided?    478770 non-null  object        \n",
      " 12  Submitted via                 500000 non-null  object        \n",
      " 13  Date sent to company          500000 non-null  datetime64[ns]\n",
      " 14  Company response to consumer  500000 non-null  object        \n",
      " 15  Timely response?              500000 non-null  object        \n",
      " 16  Complaint ID                  500000 non-null  int64         \n",
      " 17  Year_received                 500000 non-null  int32         \n",
      " 18  Month_received                500000 non-null  int32         \n",
      " 19  Weekday_received              500000 non-null  object        \n",
      " 20  Year_sent                     500000 non-null  int32         \n",
      " 21  Month_sent                    500000 non-null  int32         \n",
      " 22  Weekday_sent                  500000 non-null  object        \n",
      " 23  CFPB to Company               500000 non-null  int64         \n",
      " 24  has_narrative                 500000 non-null  int32         \n",
      " 25  clean_text                    500000 non-null  object        \n",
      " 26  narrative_length              174283 non-null  float64       \n",
      " 27  sentiment_score               174283 non-null  float64       \n",
      " 28  is_fraud_related              500000 non-null  int64         \n",
      "dtypes: datetime64[ns](2), float64(2), int32(5), int64(3), object(17)\n",
      "memory usage: 104.9+ MB\n"
     ]
    }
   ],
   "source": [
    "sample_df.info()"
   ]
  },
  {
   "cell_type": "markdown",
   "id": "158cd579",
   "metadata": {},
   "source": [
    "## 🧾 Initial Data Exploration"
   ]
  },
  {
   "cell_type": "code",
   "execution_count": 163,
   "id": "40903df6-920f-4f0d-a7fe-62aa45b2a3cd",
   "metadata": {},
   "outputs": [
    {
     "name": "stdout",
     "output_type": "stream",
     "text": [
      "<class 'pandas.core.frame.DataFrame'>\n",
      "RangeIndex: 500000 entries, 0 to 499999\n",
      "Data columns (total 30 columns):\n",
      " #   Column                        Non-Null Count   Dtype         \n",
      "---  ------                        --------------   -----         \n",
      " 0   Date received                 500000 non-null  datetime64[ns]\n",
      " 1   Product                       500000 non-null  object        \n",
      " 2   Sub-product                   499993 non-null  object        \n",
      " 3   Issue                         499998 non-null  object        \n",
      " 4   Sub-issue                     482030 non-null  object        \n",
      " 5   Consumer complaint narrative  174283 non-null  object        \n",
      " 6   Company public response       288193 non-null  object        \n",
      " 7   Company                       500000 non-null  object        \n",
      " 8   State                         500000 non-null  object        \n",
      " 9   ZIP code                      499132 non-null  object        \n",
      " 10  Tags                          30663 non-null   object        \n",
      " 11  Consumer consent provided?    478770 non-null  object        \n",
      " 12  Submitted via                 500000 non-null  object        \n",
      " 13  Date sent to company          500000 non-null  datetime64[ns]\n",
      " 14  Company response to consumer  500000 non-null  object        \n",
      " 15  Timely response?              500000 non-null  object        \n",
      " 16  Complaint ID                  500000 non-null  int64         \n",
      " 17  Year_received                 500000 non-null  int32         \n",
      " 18  Month_received                500000 non-null  int32         \n",
      " 19  Weekday_received              500000 non-null  object        \n",
      " 20  Year_sent                     500000 non-null  int32         \n",
      " 21  Month_sent                    500000 non-null  int32         \n",
      " 22  Weekday_sent                  500000 non-null  object        \n",
      " 23  CFPB to Company               500000 non-null  int64         \n",
      " 24  has_narrative                 500000 non-null  int32         \n",
      " 25  clean_text                    500000 non-null  object        \n",
      " 26  narrative_length              174283 non-null  float64       \n",
      " 27  sentiment_score               174283 non-null  float64       \n",
      " 28  is_fraud_related              500000 non-null  int64         \n",
      " 29  complaints_per_100k           495880 non-null  float64       \n",
      "dtypes: datetime64[ns](2), float64(3), int32(5), int64(3), object(17)\n",
      "memory usage: 104.9+ MB\n"
     ]
    }
   ],
   "source": [
    "sample_df.info()"
   ]
  },
  {
   "cell_type": "code",
   "execution_count": 232,
   "id": "9411937a-9def-4215-8977-10030c72b634",
   "metadata": {},
   "outputs": [
    {
     "data": {
      "text/html": [
       "<div>\n",
       "<style scoped>\n",
       "    .dataframe tbody tr th:only-of-type {\n",
       "        vertical-align: middle;\n",
       "    }\n",
       "\n",
       "    .dataframe tbody tr th {\n",
       "        vertical-align: top;\n",
       "    }\n",
       "\n",
       "    .dataframe thead th {\n",
       "        text-align: right;\n",
       "    }\n",
       "</style>\n",
       "<table border=\"1\" class=\"dataframe\">\n",
       "  <thead>\n",
       "    <tr style=\"text-align: right;\">\n",
       "      <th></th>\n",
       "      <th>Company</th>\n",
       "      <th>Headquarters</th>\n",
       "      <th>Founded</th>\n",
       "      <th>Employees</th>\n",
       "      <th>Revenue (2023, USD)</th>\n",
       "      <th>Market Cap (USD)</th>\n",
       "      <th>Presence (Countries)</th>\n",
       "      <th>U.S. Consumer Records</th>\n",
       "      <th>Clients / Partners</th>\n",
       "    </tr>\n",
       "  </thead>\n",
       "  <tbody>\n",
       "    <tr>\n",
       "      <th>0</th>\n",
       "      <td>Equifax Inc.</td>\n",
       "      <td>Atlanta, GA, USA</td>\n",
       "      <td>1899</td>\n",
       "      <td>14000</td>\n",
       "      <td>5.100000e+09</td>\n",
       "      <td>~$25–30B</td>\n",
       "      <td>24</td>\n",
       "      <td>~120 million</td>\n",
       "      <td>Thousands of institutions and agencies</td>\n",
       "    </tr>\n",
       "    <tr>\n",
       "      <th>1</th>\n",
       "      <td>TransUnion Intermediate Holdings, Inc.</td>\n",
       "      <td>Chicago, IL, USA</td>\n",
       "      <td>1968</td>\n",
       "      <td>12000</td>\n",
       "      <td>4.000000e+09</td>\n",
       "      <td>~$12–15B</td>\n",
       "      <td>30</td>\n",
       "      <td>~200 million</td>\n",
       "      <td>65,000+ businesses</td>\n",
       "    </tr>\n",
       "    <tr>\n",
       "      <th>2</th>\n",
       "      <td>Experian Information Solutions Inc.</td>\n",
       "      <td>Costa Mesa, CA, USA / Dublin, Ireland</td>\n",
       "      <td>1996</td>\n",
       "      <td>22000</td>\n",
       "      <td>7.500000e+09</td>\n",
       "      <td>~$35–40B</td>\n",
       "      <td>45</td>\n",
       "      <td>~235 million</td>\n",
       "      <td>100,000+ clients</td>\n",
       "    </tr>\n",
       "  </tbody>\n",
       "</table>\n",
       "</div>"
      ],
      "text/plain": [
       "                                  Company  \\\n",
       "0                            Equifax Inc.   \n",
       "1  TransUnion Intermediate Holdings, Inc.   \n",
       "2     Experian Information Solutions Inc.   \n",
       "\n",
       "                            Headquarters  Founded  Employees  \\\n",
       "0                       Atlanta, GA, USA     1899      14000   \n",
       "1                       Chicago, IL, USA     1968      12000   \n",
       "2  Costa Mesa, CA, USA / Dublin, Ireland     1996      22000   \n",
       "\n",
       "   Revenue (2023, USD) Market Cap (USD)  Presence (Countries)  \\\n",
       "0         5.100000e+09         ~$25–30B                    24   \n",
       "1         4.000000e+09         ~$12–15B                    30   \n",
       "2         7.500000e+09         ~$35–40B                    45   \n",
       "\n",
       "  U.S. Consumer Records                      Clients / Partners  \n",
       "0          ~120 million  Thousands of institutions and agencies  \n",
       "1          ~200 million                      65,000+ businesses  \n",
       "2          ~235 million                        100,000+ clients  "
      ]
     },
     "execution_count": 232,
     "metadata": {},
     "output_type": "execute_result"
    }
   ],
   "source": [
    "credit_bureaus_df.head()"
   ]
  },
  {
   "cell_type": "markdown",
   "id": "c1e4fbe4",
   "metadata": {},
   "source": [
    "# 3. Data Cleaning"
   ]
  },
  {
   "cell_type": "markdown",
   "id": "d104065b",
   "metadata": {},
   "source": [
    "## 🧹 Handling Missing Values"
   ]
  },
  {
   "cell_type": "code",
   "execution_count": 97,
   "id": "bb0afef7-f55f-4a8c-9b4a-26a41c7c7f29",
   "metadata": {},
   "outputs": [],
   "source": [
    "sample_df['State'] = sample_df['State'].fillna('Unknown')\n"
   ]
  },
  {
   "cell_type": "markdown",
   "id": "1381a3c5",
   "metadata": {},
   "source": [
    "## 🧹 Handling Missing Values"
   ]
  },
  {
   "cell_type": "code",
   "execution_count": 150,
   "id": "dc0adac3-1bfb-46c4-9ab9-7a2d7cea6879",
   "metadata": {},
   "outputs": [
    {
     "data": {
      "image/png": "[encoded data removed]",
      "text/plain": [
       "<Figure size 800x400 with 1 Axes>"
      ]
     },
     "metadata": {},
     "output_type": "display_data"
    },
    {
     "data": {
      "image/png": "[encoded data removed]",
      "text/plain": [
       "<Figure size 800x400 with 1 Axes>"
      ]
     },
     "metadata": {},
     "output_type": "display_data"
    },
    {
     "data": {
      "image/png": "[encoded data removed]",
      "text/plain": [
       "<Figure size 600x400 with 1 Axes>"
      ]
     },
     "metadata": {},
     "output_type": "display_data"
    }
   ],
   "source": [
    "sns.set(style=\"whitegrid\")\n",
    "\n",
    "# 1. Distribution of Narrative Length\n",
    "plt.figure(figsize=(8, 4))\n",
    "sns.histplot(sample_df['narrative_length'].dropna(), bins=30, kde=True)\n",
    "plt.title(\"Distribution of Narrative Length\")\n",
    "plt.xlabel(\"Word Count\")\n",
    "plt.ylabel(\"Frequency\")\n",
    "plt.tight_layout()\n",
    "plt.show()\n",
    "\n",
    "# 2. Distribution of Sentiment Score\n",
    "plt.figure(figsize=(8, 4))\n",
    "sns.histplot(sample_df['sentiment_score'].dropna(), bins=30, kde=True)\n",
    "plt.title(\"Distribution of Sentiment Score\")\n",
    "plt.xlabel(\"Sentiment Polarity (-1 = Negative, 1 = Positive)\")\n",
    "plt.ylabel(\"Frequency\")\n",
    "plt.tight_layout()\n",
    "plt.show()\n",
    "\n",
    "# 3. Count of Fraud-Related Complaints\n",
    "plt.figure(figsize=(6, 4))\n",
    "sns.countplot(x='is_fraud_related', data=sample_df)\n",
    "plt.title(\"Fraud-Related Complaint Count\")\n",
    "plt.xlabel(\"Is Fraud Related? (0 = No, 1 = Yes)\")\n",
    "plt.ylabel(\"Number of Complaints\")\n",
    "plt.tight_layout()\n",
    "plt.show()"
   ]
  },
  {
   "cell_type": "markdown",
   "id": "536ef9f0",
   "metadata": {},
   "source": [
    "## 🧹 Handling Missing Values"
   ]
  },
  {
   "cell_type": "code",
   "execution_count": 156,
   "id": "ab9475c5-09e0-4a8f-9eeb-0c66dbf6453b",
   "metadata": {},
   "outputs": [
    {
     "data": {
      "text/html": [
       "<div>\n",
       "<style scoped>\n",
       "    .dataframe tbody tr th:only-of-type {\n",
       "        vertical-align: middle;\n",
       "    }\n",
       "\n",
       "    .dataframe tbody tr th {\n",
       "        vertical-align: top;\n",
       "    }\n",
       "\n",
       "    .dataframe thead th {\n",
       "        text-align: right;\n",
       "    }\n",
       "</style>\n",
       "<table border=\"1\" class=\"dataframe\">\n",
       "  <thead>\n",
       "    <tr style=\"text-align: right;\">\n",
       "      <th></th>\n",
       "      <th>State</th>\n",
       "      <th>complaints_per_100k</th>\n",
       "    </tr>\n",
       "  </thead>\n",
       "  <tbody>\n",
       "    <tr>\n",
       "      <th>7</th>\n",
       "      <td>GA</td>\n",
       "      <td>348.906542</td>\n",
       "    </tr>\n",
       "    <tr>\n",
       "      <th>0</th>\n",
       "      <td>FL</td>\n",
       "      <td>310.530233</td>\n",
       "    </tr>\n",
       "    <tr>\n",
       "      <th>61</th>\n",
       "      <td>DC</td>\n",
       "      <td>278.028169</td>\n",
       "    </tr>\n",
       "    <tr>\n",
       "      <th>141</th>\n",
       "      <td>DE</td>\n",
       "      <td>255.500000</td>\n",
       "    </tr>\n",
       "    <tr>\n",
       "      <th>41</th>\n",
       "      <td>NV</td>\n",
       "      <td>237.000000</td>\n",
       "    </tr>\n",
       "    <tr>\n",
       "      <th>37</th>\n",
       "      <td>LA</td>\n",
       "      <td>221.673913</td>\n",
       "    </tr>\n",
       "    <tr>\n",
       "      <th>44</th>\n",
       "      <td>MD</td>\n",
       "      <td>211.950820</td>\n",
       "    </tr>\n",
       "    <tr>\n",
       "      <th>22</th>\n",
       "      <td>TX</td>\n",
       "      <td>209.148276</td>\n",
       "    </tr>\n",
       "    <tr>\n",
       "      <th>81</th>\n",
       "      <td>AL</td>\n",
       "      <td>205.000000</td>\n",
       "    </tr>\n",
       "    <tr>\n",
       "      <th>14</th>\n",
       "      <td>PA</td>\n",
       "      <td>193.664062</td>\n",
       "    </tr>\n",
       "  </tbody>\n",
       "</table>\n",
       "</div>"
      ],
      "text/plain": [
       "    State  complaints_per_100k\n",
       "7      GA           348.906542\n",
       "0      FL           310.530233\n",
       "61     DC           278.028169\n",
       "141    DE           255.500000\n",
       "41     NV           237.000000\n",
       "37     LA           221.673913\n",
       "44     MD           211.950820\n",
       "22     TX           209.148276\n",
       "81     AL           205.000000\n",
       "14     PA           193.664062"
      ]
     },
     "execution_count": 156,
     "metadata": {},
     "output_type": "execute_result"
    }
   ],
   "source": [
    "state_pop = {\n",
    "    'CA': 39500000, 'TX': 29000000, 'FL': 21500000, 'NY': 19500000,\n",
    "    'PA': 12800000, 'IL': 12600000, 'OH': 11700000, 'GA': 10700000,\n",
    "    'NC': 10500000, 'MI': 10000000, 'NJ': 8900000, 'VA': 8600000,\n",
    "    'WA': 7600000, 'AZ': 7300000, 'MA': 6900000, 'TN': 6900000,\n",
    "    'IN': 6800000, 'MO': 6100000, 'MD': 6100000, 'WI': 5800000,\n",
    "    'CO': 5800000, 'MN': 5700000, 'SC': 5200000, 'AL': 5000000,\n",
    "    'LA': 4600000, 'KY': 4500000, 'OR': 4300000, 'OK': 4000000,\n",
    "    'CT': 3600000, 'UT': 3300000, 'IA': 3200000, 'NV': 3100000,\n",
    "    'AR': 3000000, 'MS': 2900000, 'KS': 2900000, 'NM': 2100000,\n",
    "    'NE': 1900000, 'WV': 1800000, 'ID': 1800000, 'HI': 1400000,\n",
    "    'NH': 1400000, 'ME': 1300000, 'MT': 1100000, 'RI': 1100000,\n",
    "    'DE': 1000000, 'SD': 900000, 'ND': 800000, 'AK': 730000,\n",
    "    'VT': 640000, 'WY': 580000, 'DC': 710000\n",
    "}\n",
    "\n",
    "# 2. Count complaints per state\n",
    "state_counts = sample_df['State'].value_counts().rename_axis('State').reset_index(name='complaint_count')\n",
    "\n",
    "# 3. Add population and calculate complaints per 100k\n",
    "state_counts['population'] = state_counts['State'].map(state_pop)\n",
    "state_counts['complaints_per_100k'] = (state_counts['complaint_count'] / state_counts['population']) * 100000\n",
    "\n",
    "# 4. Merge back into sample_df\n",
    "sample_df = sample_df.merge(\n",
    "    state_counts[['State', 'complaints_per_100k']],\n",
    "    on='State',\n",
    "    how='left'\n",
    ")\n",
    "\n",
    "sample_df[['State', 'complaints_per_100k']].dropna().drop_duplicates().sort_values(by='complaints_per_100k', ascending=False).head(10)"
   ]
  },
  {
   "cell_type": "markdown",
   "id": "bc629f99",
   "metadata": {},
   "source": [
    "## 🧹 Handling Missing Values"
   ]
  },
  {
   "cell_type": "code",
   "execution_count": 181,
   "id": "b0c25a2e-3f0f-4626-9859-5142a78b8903",
   "metadata": {},
   "outputs": [
    {
     "name": "stdout",
     "output_type": "stream",
     "text": [
      "Sub-product\n",
      "Credit reporting                  397012\n",
      "Other personal consumer report      2088\n",
      "Credit repair services               350\n",
      "Name: count, dtype: int64\n"
     ]
    }
   ],
   "source": [
    "print(sample_df[sample_df[\"Product\"] == \"Credit Reporting & Repair Services\"][\"Sub-product\"].value_counts(dropna=False))"
   ]
  },
  {
   "cell_type": "markdown",
   "id": "eaad4fe2",
   "metadata": {},
   "source": [
    "## 🧹 Handling Missing Values"
   ]
  },
  {
   "cell_type": "code",
   "execution_count": 202,
   "id": "5822750f-cbbd-4d19-a056-03f99a74c14c",
   "metadata": {},
   "outputs": [
    {
     "name": "stdout",
     "output_type": "stream",
     "text": [
      "Sub-issue\n",
      "Information belongs to someone else                                                      125627\n",
      "Reporting company used your report improperly                                             75009\n",
      "Their investigation did not fix an error on your report                                   51141\n",
      "Credit inquiries on your report that you don't recognize                                  36409\n",
      "Account information incorrect                                                             25130\n",
      "Investigation took more than 30 days                                                      22999\n",
      "Account status incorrect                                                                  19827\n",
      "Was not notified of investigation status or results                                       11886\n",
      "Personal information incorrect                                                            11790\n",
      "Difficulty submitting a dispute or getting information about a dispute over the phone      3078\n",
      "Public record information inaccurate                                                       2572\n",
      "Old information reappears or never goes away                                               2537\n",
      "Information is missing that should be on the report                                        2177\n",
      "NaN                                                                                        1945\n",
      "Problem with personal statement of dispute                                                 1856\n",
      "Other problem getting your report or credit score                                          1853\n",
      "Problem canceling credit monitoring or identify theft protection service                    927\n",
      "Problem getting your free annual credit report                                              609\n",
      "Report provided to employer without your written authorization                              511\n",
      "Didn't receive services that were advertised                                                459\n",
      "Billing dispute for services                                                                425\n",
      "Information is incorrect                                                                    253\n",
      "Received unsolicited financial product or insurance offers after opting out                 149\n",
      "Problem with product or service terms changing                                              120\n",
      "Received unwanted marketing or advertising                                                   81\n",
      "Information that should be on the report is missing                                          80\n",
      "Name: count, dtype: int64\n"
     ]
    }
   ],
   "source": [
    "print(sample_df[sample_df[\"Product\"] == \"Credit Reporting & Repair Services\"][\"Sub-issue\"].value_counts(dropna=False))"
   ]
  },
  {
   "cell_type": "markdown",
   "id": "4f117eb9",
   "metadata": {},
   "source": [
    "## 🧹 Handling Missing Values"
   ]
  },
  {
   "cell_type": "code",
   "execution_count": null,
   "id": "33854b81-d2fd-428a-9090-3f31bb75c6ea",
   "metadata": {},
   "outputs": [],
   "source": [
    "print(sample_df[sample_df[\"Product\"] == \"Credit Reporting & Repair Services\"][\"Issue\"].value_counts(dropna=False))"
   ]
  },
  {
   "cell_type": "markdown",
   "id": "4f3278c5",
   "metadata": {},
   "source": [
    "# 4. Exploratory Analysis"
   ]
  },
  {
   "cell_type": "markdown",
   "id": "faf2ad7d",
   "metadata": {},
   "source": [
    "## 📊 Value Counts / Frequency Analysis"
   ]
  },
  {
   "cell_type": "code",
   "execution_count": 145,
   "id": "63754971-0151-418b-aafb-aa073ed414ed",
   "metadata": {},
   "outputs": [
    {
     "data": {
      "text/plain": [
       "is_fraud_related\n",
       "0    439199\n",
       "1     60801\n",
       "Name: count, dtype: int64"
      ]
     },
     "execution_count": 145,
     "metadata": {},
     "output_type": "execute_result"
    }
   ],
   "source": [
    "sample_df['is_fraud_related'].value_counts()\n"
   ]
  },
  {
   "cell_type": "markdown",
   "id": "6433d288",
   "metadata": {},
   "source": [
    "## 📊 Value Counts / Frequency Analysis"
   ]
  },
  {
   "cell_type": "code",
   "execution_count": 212,
   "id": "2c8764d7-9c82-43a1-8a61-4abd3d7f08dd",
   "metadata": {},
   "outputs": [
    {
     "data": {
      "text/plain": [
       "Product                                           \n",
       "Credit Reporting & Repair Services                    399450\n",
       "Debt collection                                        35537\n",
       "Checking or savings account                            16793\n",
       "Credit card or prepaid card                            12209\n",
       "Mortgage                                               10259\n",
       "Credit card                                             8404\n",
       "Money transfer, virtual currency, or money service      5731\n",
       "Vehicle loan or lease                                   4348\n",
       "Student loan                                            3578\n",
       "Payday, Title & Personal Loans                          2706\n",
       "Prepaid card                                             741\n",
       "Debt or credit management                                244\n",
       "Name: count, dtype: int64"
      ]
     },
     "execution_count": 212,
     "metadata": {},
     "output_type": "execute_result"
    }
   ],
   "source": [
    "sample_df[[\"Product\"]].value_counts()"
   ]
  },
  {
   "cell_type": "markdown",
   "id": "862e1f3c",
   "metadata": {},
   "source": [
    "## 📊 Value Counts / Frequency Analysis"
   ]
  },
  {
   "cell_type": "code",
   "execution_count": 179,
   "id": "80796cc3-8048-498f-ba9d-3b56b73c74c7",
   "metadata": {},
   "outputs": [
    {
     "data": {
      "text/plain": [
       "Product                                           \n",
       "Credit Reporting & Repair Services                    399450\n",
       "Debt collection                                        35537\n",
       "Checking or savings account                            16793\n",
       "Credit card or prepaid card                            12209\n",
       "Mortgage                                               10259\n",
       "Credit card                                             8404\n",
       "Money transfer, virtual currency, or money service      5731\n",
       "Vehicle loan or lease                                   4348\n",
       "Student loan                                            3578\n",
       "Payday, Title & Personal Loans                          2706\n",
       "Prepaid card                                             741\n",
       "Debt or credit management                                244\n",
       "Name: count, dtype: int64"
      ]
     },
     "execution_count": 179,
     "metadata": {},
     "output_type": "execute_result"
    }
   ],
   "source": [
    "sample_df[[\"Product\"]].value_counts()"
   ]
  },
  {
   "cell_type": "markdown",
   "id": "abe3fb3e",
   "metadata": {},
   "source": [
    "## 📊 Value Counts / Frequency Analysis"
   ]
  },
  {
   "cell_type": "code",
   "execution_count": 238,
   "id": "ddca7c36-adc9-4ea6-84c5-1cf481f8f42d",
   "metadata": {},
   "outputs": [
    {
     "data": {
      "text/plain": [
       "Company\n",
       "EQUIFAX, INC.                             129776\n",
       "TRANSUNION INTERMEDIATE HOLDINGS, INC.    126965\n",
       "Experian Information Solutions Inc.       118960\n",
       "CAPITAL ONE FINANCIAL CORPORATION           6474\n",
       "JPMORGAN CHASE & CO.                        5786\n",
       "                                           ...  \n",
       "Denali Capital Holdings, LLC                   1\n",
       "DIRECMANAGEMENT, INC.                          1\n",
       "Deal Depot, Inc.                               1\n",
       "Springer Collections Inc.                      1\n",
       "Capital Markets Cooporative, LLC               1\n",
       "Name: count, Length: 2909, dtype: int64"
      ]
     },
     "execution_count": 238,
     "metadata": {},
     "output_type": "execute_result"
    }
   ],
   "source": [
    "sample_df.Company.value_counts()"
   ]
  },
  {
   "cell_type": "markdown",
   "id": "e3089788",
   "metadata": {},
   "source": [
    "## 📊 Value Counts / Frequency Analysis"
   ]
  },
  {
   "cell_type": "code",
   "execution_count": 240,
   "id": "78918719-b554-47b5-859b-8288b3b8f144",
   "metadata": {},
   "outputs": [
    {
     "data": {
      "text/plain": [
       "Company\n",
       "EQUIFAX, INC.                             129776\n",
       "TRANSUNION INTERMEDIATE HOLDINGS, INC.    126965\n",
       "Experian Information Solutions Inc.       118960\n",
       "CAPITAL ONE FINANCIAL CORPORATION           6474\n",
       "JPMORGAN CHASE & CO.                        5786\n",
       "WELLS FARGO & COMPANY                       5528\n",
       "BANK OF AMERICA, NATIONAL ASSOCIATION       5520\n",
       "CITIBANK, N.A.                              4361\n",
       "SYNCHRONY FINANCIAL                         2886\n",
       "AMERICAN EXPRESS COMPANY                    2270\n",
       "Name: count, dtype: int64"
      ]
     },
     "execution_count": 240,
     "metadata": {},
     "output_type": "execute_result"
    }
   ],
   "source": [
    "sample_df['Company'].value_counts().head(10)"
   ]
  },
  {
   "cell_type": "markdown",
   "id": "f2abc21d",
   "metadata": {},
   "source": [
    "# 6. Text Cleaning / NLP"
   ]
  },
  {
   "cell_type": "markdown",
   "id": "50cf920a",
   "metadata": {},
   "source": [
    "## ✍️ Text Cleaning or Feature Engineering"
   ]
  },
  {
   "cell_type": "code",
   "execution_count": 107,
   "id": "d1fec93a-d62a-45ef-a837-58fb5fd54c34",
   "metadata": {},
   "outputs": [
    {
     "name": "stderr",
     "output_type": "stream",
     "text": [
      "[nltk_data] Downloading package stopwords to\n",
      "[nltk_data]     C:\\Users\\admin\\AppData\\Roaming\\nltk_data...\n",
      "[nltk_data]   Unzipping corpora\\stopwords.zip.\n"
     ]
    }
   ],
   "source": [
    "nltk.download('stopwords')\n",
    "\n",
    "stop_words = set(stopwords.words('english'))\n",
    "\n",
    "def clean_text(text):\n",
    "    if pd.isnull(text):\n",
    "        return \"\"\n",
    "    text = text.lower()\n",
    "    text = re.sub(r'https?://\\S+', '', text)\n",
    "    text = re.sub(r'\\n', ' ', text)           \n",
    "    text = re.sub(f\"[{re.escape(string.punctuation)}]\", '', text)  \n",
    "    words = text.split()\n",
    "    words = [word for word in words if word not in stop_words]\n",
    "    return ' '.join(words)\n",
    "\n",
    "sample_df['clean_text'] = sample_df['Consumer complaint narrative'].apply(clean_text)"
   ]
  },
  {
   "cell_type": "code",
   "execution_count": 111,
   "id": "f628b5ab-eab9-4a33-9116-c6d5b5504652",
   "metadata": {},
   "outputs": [],
   "source": [
    "valid_text_mask = sample_df['clean_text'] != \"\"\n",
    "texts_to_embed = sample_df.loc[valid_text_mask, 'clean_text']"
   ]
  },
  {
   "cell_type": "markdown",
   "id": "526e2b8f",
   "metadata": {},
   "source": [
    "## ✍️ Text Cleaning or Feature Engineering"
   ]
  },
  {
   "cell_type": "code",
   "execution_count": 137,
   "id": "c026e0fd-4738-4f1c-84bb-d9cd4bdd18af",
   "metadata": {},
   "outputs": [],
   "source": [
    "# Narrative Length\n",
    "sample_df['narrative_length'] = sample_df['Consumer complaint narrative'].apply(\n",
    "    lambda x: len(x.split()) if pd.notnull(x) else None\n",
    ")\n"
   ]
  },
  {
   "cell_type": "markdown",
   "id": "6e78feb8",
   "metadata": {},
   "source": [
    "## ✍️ Text Cleaning or Feature Engineering"
   ]
  },
  {
   "cell_type": "code",
   "execution_count": 139,
   "id": "35ad8ef1-2882-49c7-801f-77c34325b8cc",
   "metadata": {},
   "outputs": [],
   "source": [
    "# Sentiment Score\n",
    "def get_sentiment(text):\n",
    "    if pd.isnull(text) or not text.strip():\n",
    "        return None\n",
    "    return TextBlob(text).sentiment.polarity\n",
    "\n",
    "sample_df['sentiment_score'] = sample_df['Consumer complaint narrative'].apply(get_sentiment)"
   ]
  },
  {
   "cell_type": "markdown",
   "id": "ea2ecd9e",
   "metadata": {},
   "source": [
    "## ✍️ Text Cleaning or Feature Engineering"
   ]
  },
  {
   "cell_type": "code",
   "execution_count": 140,
   "id": "6382d255-5f3d-4e03-a6c1-6ef966ac0879",
   "metadata": {},
   "outputs": [],
   "source": [
    "# Expanded Fraud\n",
    "fraud_keywords = [\n",
    "    'fraud', 'scam', 'scammer', 'scammed', 'deceit', 'dishonest', 'fake', 'forged', 'forgery', 'impersonation',\n",
    "    'unauthorized', 'unapproved', 'unknown transaction', 'not me', 'didn’t authorize', 'charged without consent',\n",
    "    'identity theft', 'stolen identity', 'stolen info', 'data breach', 'personal data used', 'hacked', 'compromised account',\n",
    "    'fake charges', 'phantom charges', 'overcharged', 'duplicate charge', 'false billing', 'incorrect billing', 'wrong charge',\n",
    "    'threatened', 'forced', 'intimidated', 'coerced', 'phishing', 'spam', 'robocall', 'misleading', 'misrepresented',\n",
    "    'fake loan', 'payday scam', 'predatory lending', 'bait and switch', 'hidden fees', 'tricked', 'misleading terms'\n",
    "]\n",
    "\n",
    "sample_df['is_fraud_related'] = sample_df['Consumer complaint narrative'].apply(\n",
    "    lambda x: int(any(keyword in x.lower() for keyword in fraud_keywords)) if pd.notnull(x) else 0\n",
    ")"
   ]
  },
  {
   "cell_type": "code",
   "execution_count": 169,
   "id": "02ae2460-2c5f-406f-a8a4-af3b809e38c1",
   "metadata": {},
   "outputs": [],
   "source": [
    "def clean_product_name(prod):\n",
    "    if prod in [\n",
    "        'Credit reporting or other personal consumer reports',\n",
    "        'Credit reporting, credit repair services, or other personal consumer reports'\n",
    "    ]:\n",
    "        return 'Credit Reporting & Repair Services'\n",
    "    return prod\n",
    "\n",
    "sample_df['Product'] = sample_df['Product'].apply(clean_product_name)"
   ]
  },
  {
   "cell_type": "code",
   "execution_count": 171,
   "id": "0fe05b25-c983-4fc5-95c9-5ec2175e9bd1",
   "metadata": {},
   "outputs": [],
   "source": [
    "def merge_payday_products(prod):\n",
    "    if prod in [\n",
    "        'Payday loan, title loan, or personal loan',\n",
    "        'Payday loan, title loan, personal loan, or advance loan'\n",
    "    ]:\n",
    "        return 'Payday, Title & Personal Loans'\n",
    "    return prod\n",
    "\n",
    "sample_df['Product'] = sample_df['Product'].apply(merge_payday_products)"
   ]
  },
  {
   "cell_type": "code",
   "execution_count": 185,
   "id": "a3df97ad-a4d2-461c-b9c9-a0b246367315",
   "metadata": {},
   "outputs": [
    {
     "name": "stdout",
     "output_type": "stream",
     "text": [
      "{'15': 114931, '1681': 48862, 'account': 168504, 'accounts': 88614, 'act': 44559, 'agency': 61038, 'balance': 37900, 'consumer': 179754, 'credit': 284846, 'date': 41678, 'fair': 41893, 'fcra': 34770, 'identity': 41282, 'inaccurate': 54623, 'information': 195052, 'items': 47242, 'late': 39256, 'number': 35069, 'payment': 41972, 'remove': 35455, 'report': 198924, 'reporting': 162675, 'rights': 35752, 'section': 83770, 'states': 48886, 'theft': 35898, 'usc': 95775, 'written': 34189, 'xxxx': 1874742, 'xxxxxxxx': 113874}\n"
     ]
    }
   ],
   "source": [
    "texts = sample_df[\n",
    "    (sample_df[\"Product\"] == \"Credit Reporting & Repair Services\") & \n",
    "    (sample_df[\"has_narrative\"] == 1)\n",
    "][\"clean_text\"]\n",
    "\n",
    "vectorizer = CountVectorizer(max_features=30, stop_words='english')\n",
    "X = vectorizer.fit_transform(texts)\n",
    "\n",
    "print(dict(zip(vectorizer.get_feature_names_out(), X.sum(axis=0).A1)))"
   ]
  },
  {
   "cell_type": "markdown",
   "id": "9e4a5131",
   "metadata": {},
   "source": [
    "# 7. Other\n"
   ]
  },
  {
   "cell_type": "code",
   "execution_count": 13,
   "id": "850668c6-0666-4f78-8c18-e509344dc7f7",
   "metadata": {},
   "outputs": [],
   "source": [
    "fullc_df['Date received'] = pd.to_datetime(fullc_df['Date received'], errors='coerce')\n",
    "fullc_df['Date sent to company'] = pd.to_datetime(fullc_df['Date sent to company'], errors='coerce')"
   ]
  },
  {
   "cell_type": "code",
   "execution_count": 17,
   "id": "93e099c2-4807-4b0b-8619-4a04c5f852fb",
   "metadata": {},
   "outputs": [],
   "source": [
    "fullc_df['Year'] = fullc_df['Date received'].dt.year\n",
    "fullc_df['Month'] = fullc_df['Date received'].dt.month\n",
    "fullc_df['Weekday'] = fullc_df['Date received'].dt.day_name()"
   ]
  },
  {
   "cell_type": "code",
   "execution_count": 55,
   "id": "3d42f9dc-c262-4c0b-92dc-9daf46526163",
   "metadata": {},
   "outputs": [
    {
     "data": {
      "text/plain": [
       "(9589250, 21)"
      ]
     },
     "execution_count": 55,
     "metadata": {},
     "output_type": "execute_result"
    }
   ],
   "source": [
    "fullc_df.shape"
   ]
  },
  {
   "cell_type": "code",
   "execution_count": 19,
   "id": "7aa0e780-9d7b-4f81-ae95-404db2e5be65",
   "metadata": {},
   "outputs": [
    {
     "name": "stdout",
     "output_type": "stream",
     "text": [
      "2011-12-01 00:00:00\n",
      "2025-06-21 00:00:00\n"
     ]
    }
   ],
   "source": [
    "print(fullc_df['Date received'].min())\n",
    "print(fullc_df['Date received'].max())\n"
   ]
  },
  {
   "cell_type": "code",
   "execution_count": 35,
   "id": "209a6a5f-3f14-4ee2-a3e6-a143e55f0f0a",
   "metadata": {},
   "outputs": [
    {
     "name": "stdout",
     "output_type": "stream",
     "text": [
      "4860.206383705139\n"
     ]
    }
   ],
   "source": [
    "print(recent_df.memory_usage(deep=True).sum() / (1024 ** 2))\n"
   ]
  },
  {
   "cell_type": "code",
   "execution_count": 36,
   "id": "651c23dd-5196-4aeb-a023-ee87de630859",
   "metadata": {},
   "outputs": [
    {
     "data": {
      "text/plain": [
       "(4036510, 21)"
      ]
     },
     "execution_count": 36,
     "metadata": {},
     "output_type": "execute_result"
    }
   ],
   "source": [
    "recent_df.shape"
   ]
  },
  {
   "cell_type": "code",
   "execution_count": 51,
   "id": "e0bfa146-2ebf-480a-a196-c3c3327c0912",
   "metadata": {},
   "outputs": [
    {
     "data": {
      "text/plain": [
       "Date received                       362\n",
       "Product                              11\n",
       "Sub-product                          55\n",
       "Issue                                88\n",
       "Sub-issue                           209\n",
       "Consumer complaint narrative     505947\n",
       "Company public response              10\n",
       "Company                            3695\n",
       "State                                60\n",
       "ZIP code                          21648\n",
       "Tags                                  3\n",
       "Consumer consent provided?            4\n",
       "Submitted via                         4\n",
       "Date sent to company                362\n",
       "Company response to consumer          5\n",
       "Timely response?                      2\n",
       "Consumer disputed?                    0\n",
       "Complaint ID                    4036510\n",
       "Year                                  2\n",
       "Month                                12\n",
       "Weekday                               7\n",
       "dtype: int64"
      ]
     },
     "execution_count": 51,
     "metadata": {},
     "output_type": "execute_result"
    }
   ],
   "source": [
    "recent_df.nunique()"
   ]
  },
  {
   "cell_type": "code",
   "execution_count": 59,
   "id": "81078c03-c986-4347-8556-4bf12f3d6327",
   "metadata": {},
   "outputs": [
    {
     "name": "stdout",
     "output_type": "stream",
     "text": [
      "Shape: (5770390, 21)\n",
      "7782.710597991943\n"
     ]
    }
   ],
   "source": [
    "# Filter from Jan 1, 2019 to Dec 31, 2022\n",
    "start_date = pd.Timestamp(\"2020-01-01\")\n",
    "end_date = pd.Timestamp(\"2024-12-31\")\n",
    "\n",
    "df_2019_2022 = fullc_df[\n",
    "    (fullc_df['Date received'] >= start_date) &\n",
    "    (fullc_df['Date received'] <= end_date)\n",
    "].copy()\n",
    "\n",
    "# Check shape and size\n",
    "print(\"Shape:\", df_2019_2022.shape)\n",
    "\n",
    "# Optional: Check memory usage\n",
    "print(df_2019_2022.memory_usage(deep=True).sum() / (1024 ** 2))"
   ]
  },
  {
   "cell_type": "code",
   "execution_count": 61,
   "id": "883149d3-731d-496c-a226-6b7b2821d24d",
   "metadata": {},
   "outputs": [],
   "source": [
    "sample_df = df_2019_2022.sample(n=500_000, random_state=42)"
   ]
  },
  {
   "cell_type": "code",
   "execution_count": 63,
   "id": "720a645e-6936-4540-8e54-1fe4c9878a4b",
   "metadata": {},
   "outputs": [
    {
     "name": "stdout",
     "output_type": "stream",
     "text": [
      "674.3172416687012\n"
     ]
    }
   ],
   "source": [
    "print(sample_df.memory_usage(deep=True).sum() / (1024 ** 2))"
   ]
  },
  {
   "cell_type": "code",
   "execution_count": 65,
   "id": "89d36e0c-38dd-4b41-bb8d-9ac51d52a378",
   "metadata": {},
   "outputs": [
    {
     "data": {
      "text/plain": [
       "(500000, 21)"
      ]
     },
     "execution_count": 65,
     "metadata": {},
     "output_type": "execute_result"
    }
   ],
   "source": [
    "sample_df.shape"
   ]
  },
  {
   "cell_type": "code",
   "execution_count": 69,
   "id": "b3710b98-17fc-4c79-b580-4a1d1b8c6b81",
   "metadata": {},
   "outputs": [],
   "source": [
    "sample_df.to_csv(\"complaints_5yr_sample_full.csv\", index=False)"
   ]
  },
  {
   "cell_type": "code",
   "execution_count": 81,
   "id": "900c13a5-9473-4ce9-a958-03c9012fb4bb",
   "metadata": {},
   "outputs": [],
   "source": [
    "sample_df.drop(columns=['Consumer disputed?'], inplace=True)"
   ]
  },
  {
   "cell_type": "code",
   "execution_count": 85,
   "id": "43764106-f293-4e47-a52f-652c6bbd96b6",
   "metadata": {},
   "outputs": [],
   "source": [
    "sample_df.rename(columns={\n",
    "    'Year': 'Year_received',\n",
    "    'Month': 'Month_received',\n",
    "    'Weekday': 'Weekday_received'\n",
    "}, inplace=True)"
   ]
  },
  {
   "cell_type": "code",
   "execution_count": 89,
   "id": "b801f169-b038-4333-91a0-65cd2e43b8fd",
   "metadata": {},
   "outputs": [],
   "source": [
    "sample_df['Year_sent'] = sample_df['Date sent to company'].dt.year\n",
    "sample_df['Month_sent'] = sample_df['Date sent to company'].dt.month\n",
    "sample_df['Weekday_sent'] = sample_df['Date sent to company'].dt.day_name()"
   ]
  },
  {
   "cell_type": "code",
   "execution_count": 93,
   "id": "59381d2e-7f83-419c-b436-7af67f080dca",
   "metadata": {},
   "outputs": [],
   "source": [
    "sample_df['Days_to_respond'] = (sample_df['Date sent to company'] - sample_df['Date received']).dt.days\n"
   ]
  },
  {
   "cell_type": "code",
   "execution_count": 102,
   "id": "f21e7332-26eb-49c1-bd18-96a4aa82ed54",
   "metadata": {},
   "outputs": [],
   "source": [
    "sample_df['has_narrative'] = sample_df['Consumer complaint narrative'].notnull().astype(int)"
   ]
  },
  {
   "cell_type": "code",
   "execution_count": 109,
   "id": "d5340d45-86d0-4e79-953b-3e2971be9aa6",
   "metadata": {},
   "outputs": [
    {
     "data": {
      "text/plain": [
       "Date received                     1826\n",
       "Product                             14\n",
       "Sub-product                         57\n",
       "Issue                               92\n",
       "Sub-issue                          209\n",
       "Consumer complaint narrative    140276\n",
       "Company public response             10\n",
       "Company                           2909\n",
       "State                               61\n",
       "ZIP code                         17545\n",
       "Tags                                 3\n",
       "Consumer consent provided?           4\n",
       "Submitted via                        6\n",
       "Date sent to company              1853\n",
       "Company response to consumer         5\n",
       "Timely response?                     2\n",
       "Complaint ID                    500000\n",
       "Year_received                        5\n",
       "Month_received                      12\n",
       "Weekday_received                     7\n",
       "Year_sent                            6\n",
       "Month_sent                          12\n",
       "Weekday_sent                         7\n",
       "Days_to_respond                    143\n",
       "has_narrative                        2\n",
       "clean_text                      136437\n",
       "dtype: int64"
      ]
     },
     "execution_count": 109,
     "metadata": {},
     "output_type": "execute_result"
    }
   ],
   "source": [
    "sample_df.nunique()"
   ]
  },
  {
   "cell_type": "code",
   "execution_count": 121,
   "id": "37c09d22-5724-4dc4-82ed-1a5d7412daf5",
   "metadata": {},
   "outputs": [],
   "source": [
    "# !pip install -U sentence-transformers"
   ]
  },
  {
   "cell_type": "code",
   "execution_count": 124,
   "id": "866add49-122e-4f80-a83c-461668dbde49",
   "metadata": {},
   "outputs": [
    {
     "name": "stdout",
     "output_type": "stream",
     "text": [
      "833.1930561065674\n"
     ]
    }
   ],
   "source": [
    "print(sample_df.memory_usage(deep=True).sum() / (1024 ** 2))\n"
   ]
  },
  {
   "cell_type": "code",
   "execution_count": 126,
   "id": "73848e43-6e7c-4d57-a0fa-4d3a99682e53",
   "metadata": {},
   "outputs": [],
   "source": [
    "sample_df.to_csv(\"complaints_sample.csv\", index=False)"
   ]
  },
  {
   "cell_type": "code",
   "execution_count": 128,
   "id": "83ab62b2-65a2-4e80-9217-e1e6c62adecd",
   "metadata": {},
   "outputs": [],
   "source": [
    "sample_df.rename(columns={'Days_to_respond': 'CFPB to Company'}, inplace=True)"
   ]
  },
  {
   "cell_type": "code",
   "execution_count": 152,
   "id": "7041f5ad-d1a9-4357-b70a-16ce50582c96",
   "metadata": {},
   "outputs": [],
   "source": [
    "sample_df.to_csv(\"complaints_with_narrative_features.csv\", index=False)"
   ]
  },
  {
   "cell_type": "code",
   "execution_count": 161,
   "id": "423c8f0f-afbb-4f5e-b299-32c752f74bc8",
   "metadata": {},
   "outputs": [],
   "source": [
    "# sample_df.to_csv(\"complaints_with_per_capita.csv\", index=False)"
   ]
  },
  {
   "cell_type": "code",
   "execution_count": 165,
   "id": "44a8b9f2-cf27-45de-8136-b2b1e23167db",
   "metadata": {},
   "outputs": [
    {
     "name": "stdout",
     "output_type": "stream",
     "text": [
      "Total complaints in 2025: 0\n"
     ]
    }
   ],
   "source": [
    "print(\"Total complaints in 2025:\", sample_df[sample_df['Year_received'] == 2025].shape[0])"
   ]
  },
  {
   "cell_type": "code",
   "execution_count": 217,
   "id": "7f09ccf1-b77f-4408-b904-511353412f8a",
   "metadata": {},
   "outputs": [],
   "source": [
    "sample_df.to_csv(\"complaints.csv\", index=False)"
   ]
  },
  {
   "cell_type": "code",
   "execution_count": 230,
   "id": "df1e052f-f98d-4535-8c90-421f2470ae17",
   "metadata": {},
   "outputs": [],
   "source": [
    "data = {\n",
    "    \"Company\": [\n",
    "        \"Equifax Inc.\",\n",
    "        \"TransUnion Intermediate Holdings, Inc.\",\n",
    "        \"Experian Information Solutions Inc.\"\n",
    "    ],\n",
    "    \"Headquarters\": [\n",
    "        \"Atlanta, GA, USA\",\n",
    "        \"Chicago, IL, USA\",\n",
    "        \"Costa Mesa, CA, USA / Dublin, Ireland\"\n",
    "    ],\n",
    "    \"Founded\": [1899, 1968, 1996],\n",
    "    \"Employees\": [14000, 12000, 22000],\n",
    "    \"Revenue (2023, USD)\": [5.1e9, 4.0e9, 7.5e9],\n",
    "    \"Market Cap (USD)\": [\"~$25–30B\", \"~$12–15B\", \"~$35–40B\"],\n",
    "    \"Presence (Countries)\": [24, 30, 45],\n",
    "    \"U.S. Consumer Records\": [\"~120 million\", \"~200 million\", \"~235 million\"],\n",
    "    \"Clients / Partners\": [\n",
    "        \"Thousands of institutions and agencies\",\n",
    "        \"65,000+ businesses\",\n",
    "        \"100,000+ clients\"\n",
    "    ]\n",
    "}\n",
    "\n",
    "# Create the DataFrame\n",
    "credit_bureaus_df = pd.DataFrame(data)"
   ]
  },
  {
   "cell_type": "code",
   "execution_count": 234,
   "id": "bd937b12-c026-4758-a165-78872fb2c521",
   "metadata": {},
   "outputs": [],
   "source": [
    "credit_bureaus_df.to_csv(\"companies.csv\", index=False)"
   ]
  },
  {
   "cell_type": "code",
   "execution_count": null,
   "id": "c7b1db37-5e79-434f-a627-47ce0f9b3b16",
   "metadata": {},
   "outputs": [],
   "source": []
  }
 ],
 "metadata": {
  "kernelspec": {
   "display_name": "Python [conda env:base] *",
   "language": "python",
   "name": "conda-base-py"
  },
  "language_info": {
   "codemirror_mode": {
    "name": "ipython",
    "version": 3
   },
   "file_extension": ".py",
   "mimetype": "text/x-python",
   "name": "python",
   "nbconvert_exporter": "python",
   "pygments_lexer": "ipython3",
   "version": "3.12.7"
  }
 },
 "nbformat": 4,
 "nbformat_minor": 5
}
